{
 "cells": [
  {
   "cell_type": "markdown",
   "id": "6b42407f-a808-42bd-94fc-3685d29b4d8f",
   "metadata": {},
   "source": [
    "<H1> Tone </H1> \n",
    "Test pyaudio ideas\n",
    "<hr>\n",
    "<H2>Modification history </H2><br> \n",
    "<table>\n",
    "    <tr>\n",
    "        <th> Modified </th>\n",
    "        <th> By </th>\n",
    "        <th> Reason </th>\n",
    "    </tr>\n",
    "    <tr> \n",
    "        <td> 22-Jun-25 </td>\n",
    "        <td> CBL </td> \n",
    "        <td> Original </td>\n",
    "    </tr>\n",
    "</table>\n",
    "<hr> \n",
    "<H2> References </H2> \n",
    "<a href=\"https://people.csail.mit.edu/hubert/pyaudio/docs/\"> pyaudio docs </a> <br> \n",
    "<a href=\"https://stackoverflow.com/questions/40704026/voice-recording-using-pyaudio\"> Example of voice recording</a> <br> \n",
    "<a href = \"https://github.com/jleb/pyaudio/blob/master/test/record.py\"> </a>\n",
    "\n",
    "<H2> Notes </H2>\n",
    "\n",
    "<br> "
   ]
  },
  {
   "cell_type": "code",
   "execution_count": 1,
   "id": "6a08fe74-ef6c-4eb9-bd0e-1bdfb1745391",
   "metadata": {},
   "outputs": [],
   "source": [
    "# import packages\n",
    "import numpy as np\n",
    "import matplotlib.pyplot as plt\n",
    "import math\n",
    "import scipy.constants as const\n",
    "import scipy  as sp\n",
    "import pyaudio\n",
    "import wave"
   ]
  },
  {
   "cell_type": "code",
   "execution_count": null,
   "id": "8c74b554-4eb7-4040-9efe-0b56cf6255aa",
   "metadata": {},
   "outputs": [],
   "source": [
    "def RecordInput():\n",
    "    import wave\n",
    "\n",
    "    CHUNK = 1024\n",
    "    FORMAT = pyaudio.paInt16\n",
    "    CHANNELS = 1\n",
    "    RATE = 44100\n",
    "    RECORD_SECONDS = 5\n",
    "    WAVE_OUTPUT_FILENAME = \"output.wav\"\n",
    "\n",
    "    p = pyaudio.PyAudio()\n",
    "\n",
    "    stream = p.open(format=FORMAT,\n",
    "                          channels=CHANNELS,\n",
    "                          rate=RATE,\n",
    "                          input=True,\n",
    "                          input_device_index=0,\n",
    "                          frames_per_buffer=CHUNK)\n",
    "\n",
    "    print(\"* recording\")\n",
    "\n",
    "    frames = []\n",
    "\n",
    "    for i in range(0, int(RATE / CHUNK * RECORD_SECONDS)):\n",
    "        data = stream.read(CHUNK)\n",
    "        #frames.append(data)\n",
    "\n",
    "    print(\"* done recording\")\n",
    "\n",
    "    stream.stop_stream()\n",
    "    stream.close()\n",
    "    p.terminate()\n",
    "        "
   ]
  },
  {
   "cell_type": "code",
   "execution_count": null,
   "id": "8cdb197a-606e-4edf-a80c-c6320027ea4d",
   "metadata": {},
   "outputs": [],
   "source": [
    "def PlayWav(filename):\n",
    "    CHUNK = 1024\n",
    "    \n",
    "    with wave.open(filename, 'rb') as wf:\n",
    "        # Instantiate PyAudio and initialize PortAudio system resources (1)\n",
    "        p = pyaudio.PyAudio()\n",
    "        print('Format: ', p.get_format_from_width(wf.getsampwidth()))\n",
    "        print('NChan: ', wf.getnchannels())\n",
    "        print('Rate: ', wf.getframerate())\n",
    "        \n",
    "        # Open stream (2)\n",
    "        stream = p.open(format=p.get_format_from_width(wf.getsampwidth()),\n",
    "                        channels=wf.getnchannels(),\n",
    "                        rate=wf.getframerate(),\n",
    "                        output=True)\n",
    "\n",
    "        # Play samples from the wave file (3)\n",
    "        while len(data := wf.readframes(CHUNK)):  # Requires Python 3.8+ for :=\n",
    "            stream.write(data)\n",
    "\n",
    "        # Close stream (4)\n",
    "        stream.close()\n",
    "\n",
    "        # Release PortAudio system resources (5)\n",
    "        p.terminate()\n",
    "        "
   ]
  },
  {
   "cell_type": "code",
   "execution_count": 2,
   "id": "bacda088-1ddc-4275-ba10-83b9d08689c6",
   "metadata": {},
   "outputs": [],
   "source": [
    "def ShowDevices():\n",
    "    p = pyaudio.PyAudio()\n",
    "    info = p.get_host_api_info_by_index(0)\n",
    "    numdevices = info.get('deviceCount')\n",
    "\n",
    "    for i in range(0, numdevices):\n",
    "        if (p.get_device_info_by_host_api_device_index(0, i).get('maxInputChannels')) > 0:\n",
    "            print(\"Input Device id \", i, \" - \", p.get_device_info_by_host_api_device_index(0, i).get('name'))"
   ]
  },
  {
   "cell_type": "code",
   "execution_count": 27,
   "id": "e70d0ff0-b325-48e6-815e-a5eff7a8c58c",
   "metadata": {},
   "outputs": [],
   "source": [
    "def PlayData(DataIn, FrameRate=44100):\n",
    "    \"\"\"\n",
    "    ----------------------------------------------\n",
    "    \"\"\"\n",
    "    p = pyaudio.PyAudio()\n",
    "    print(\"FORMAT: \", pyaudio.paInt16)\n",
    "    stream = p.open(format=pyaudio.paInt16,\n",
    "                    channels=1,\n",
    "                    rate=FrameRate,\n",
    "                    output=True)\n",
    "    # Play samples\n",
    "    stream.write(DataIn)\n",
    "    # Close stream (4)\n",
    "    stream.close()\n",
    "    # Release PortAudio system resources (5)\n",
    "    p.terminate()\n"
   ]
  },
  {
   "cell_type": "code",
   "execution_count": 34,
   "id": "034c6cfb-e1fc-4a1e-931d-872e2dbe7e10",
   "metadata": {},
   "outputs": [],
   "source": [
    "def MakeSine(Freq, Amplitude=200):\n",
    "    \"\"\"\n",
    "    Make a sine wave with the:\n",
    "    @param Freq - frequency in Hz\n",
    "    @param Amplitude - somewhat aribitrary\n",
    "    @return float64 of data in array. \n",
    "    \"\"\"\n",
    "    Seconds = 2\n",
    "    SampleRate = 44100            # number samples\n",
    "    sampleWidth = 2               # bytes per sample\n",
    "    N = SampleRate                # number of total samples\n",
    "    t = Seconds * np.arange(N)/N  # integer time\n",
    "    omega = 2.0*np.pi*Freq\n",
    "    Samples = Amplitude * np.sin(omega*t)\n",
    "\n",
    "    return Samples"
   ]
  },
  {
   "cell_type": "code",
   "execution_count": 23,
   "id": "34a30a7f-4701-47a2-bca0-68441bc17d86",
   "metadata": {},
   "outputs": [],
   "source": [
    "def PlaySine():\n",
    "    d = MakeSine(400.0)\n",
    "    PlayData(d)\n",
    "    plt.plot(d[0:441],'+')\n",
    "    plt.grid()\n",
    "    plt.show()"
   ]
  },
  {
   "cell_type": "code",
   "execution_count": 38,
   "id": "c06e74f2-b9c2-4dab-b57d-cee7124e05db",
   "metadata": {},
   "outputs": [
    {
     "name": "stdout",
     "output_type": "stream",
     "text": [
      "FORMAT:  8\n"
     ]
    }
   ],
   "source": [
    "d = MakeSine(500.0, 8000.0)\n",
    "PlayData(d.astype(int))"
   ]
  },
  {
   "cell_type": "code",
   "execution_count": 30,
   "id": "cd56568b-7d1c-4cef-8aca-5be25cdb18a0",
   "metadata": {},
   "outputs": [
    {
     "data": {
      "text/plain": [
       "array([  0.        ,  22.74680952,  45.19842146,  67.06346918,\n",
       "        88.0581982 , 107.91014864, 126.36169105, 143.17336985,\n",
       "       158.12701085, 171.0285526 ])"
      ]
     },
     "execution_count": 30,
     "metadata": {},
     "output_type": "execute_result"
    }
   ],
   "source": [
    "d[0:10]"
   ]
  },
  {
   "cell_type": "code",
   "execution_count": null,
   "id": "e16d787d-353a-4db2-8a34-11514decae1f",
   "metadata": {},
   "outputs": [],
   "source": []
  }
 ],
 "metadata": {
  "kernelspec": {
   "display_name": "Python 3 (ipykernel)",
   "language": "python",
   "name": "python3"
  },
  "language_info": {
   "codemirror_mode": {
    "name": "ipython",
    "version": 3
   },
   "file_extension": ".py",
   "mimetype": "text/x-python",
   "name": "python",
   "nbconvert_exporter": "python",
   "pygments_lexer": "ipython3",
   "version": "3.13.3"
  }
 },
 "nbformat": 4,
 "nbformat_minor": 5
}
